{
 "cells": [
  {
   "cell_type": "markdown",
   "metadata": {},
   "source": [
    "# Programcion Orientada a Objetos (POO)"
   ]
  },
  {
   "cell_type": "markdown",
   "metadata": {},
   "source": [
    "##### by Pragmatic Coder"
   ]
  },
  {
   "cell_type": "markdown",
   "metadata": {},
   "source": [
    "### Clases & Objetos"
   ]
  },
  {
   "cell_type": "code",
   "execution_count": 1,
   "metadata": {},
   "outputs": [
    {
     "name": "stdout",
     "output_type": "stream",
     "text": [
      "Objeto Instanciado de la clase Auto : \n",
      "0\n",
      "Ferrari\n",
      "53634-356\n"
     ]
    }
   ],
   "source": [
    "#Clase\n",
    "class Auto:\n",
    "    #Atributos\n",
    "    Marca = \"Ferrari\"\n",
    "    Modelo = 0\n",
    "    Placa = \"53634-356\"\n",
    "    \n",
    "\n",
    "#Instanciamos un Objeto    \n",
    "Taxi = Auto()\n",
    "\n",
    "print(\"Objeto Instanciado de la clase Auto : \")\n",
    "print(Taxi.Modelo)\n",
    "print(Taxi.Marca)\n",
    "print(Taxi.Placa)"
   ]
  },
  {
   "cell_type": "code",
   "execution_count": 6,
   "metadata": {},
   "outputs": [
    {
     "name": "stdout",
     "output_type": "stream",
     "text": [
      "Hector\n"
     ]
    }
   ],
   "source": [
    "#Se puede mostrar los stributos de la clase sin necesidad de Instanciar un Objeto\n",
    "class Persona:\n",
    "    Doctor = \"Hector\"\n",
    "\n",
    "#Sin Instanciar ningun Objeto de la Clase    \n",
    "print(Persona.Doctor)"
   ]
  },
  {
   "cell_type": "code",
   "execution_count": 4,
   "metadata": {},
   "outputs": [
    {
     "name": "stdout",
     "output_type": "stream",
     "text": [
      "Mostrando los Atributos de la Clase : \n",
      "Corei 5\n",
      "Corei 7\n",
      "Corei 9\n",
      "Corei 9\n"
     ]
    }
   ],
   "source": [
    "#Simple Repaso\n",
    "class CafeInternet:\n",
    "    Ordenador = \"Corei 5\"\n",
    "    Ordenador_1 = \"Corei 7\"\n",
    "    Ordenador_2 = \"Corei 9\"\n",
    "    Ordenador_3 = \"Corei 9\"\n",
    "    \n",
    "    \n",
    "print(\"Mostrando los Atributos de la Clase : \")    \n",
    "print(CafeInternet.Ordenador)    \n",
    "print(CafeInternet.Ordenador_1)    \n",
    "print(CafeInternet.Ordenador_2)    \n",
    "print(CafeInternet.Ordenador_3)    \n"
   ]
  },
  {
   "cell_type": "code",
   "execution_count": 9,
   "metadata": {},
   "outputs": [
    {
     "name": "stdout",
     "output_type": "stream",
     "text": [
      "Messi\n",
      "Krooss\n",
      "Cristiano Ronaldo\n",
      "Lewandowski\n"
     ]
    }
   ],
   "source": [
    "class Jugadores_A:\n",
    "    J1 = \"Messi\"\n",
    "    J2 = \"Cristiano Ronaldo\"    \n",
    "    J3 = \"Lewandowski\"    \n",
    "    \n",
    "class Jugadores_B:\n",
    "    J1 = \"Krooss\"\n",
    "    J2 = \"Xavi\"\n",
    "    J3 = \"Iniesta\"\n",
    "    \n",
    "#Sin Instanciar ningun Objeto de la Clase    \n",
    "print(Jugadores_A.J1)    \n",
    "print(Jugadores_B.J1)\n",
    "print(Jugadores_A.J2)    \n",
    "print(Jugadores_A.J3)    \n"
   ]
  },
  {
   "cell_type": "markdown",
   "metadata": {},
   "source": [
    "### Ejercicio 0 <br> crear una Clase Auto he instanciar N Objetos de la clase Auto Guardarlos y mostrarlos en pantalla"
   ]
  },
  {
   "cell_type": "code",
   "execution_count": 2,
   "metadata": {},
   "outputs": [
    {
     "name": "stdout",
     "output_type": "stream",
     "text": [
      "Cuantos Autos desea Crear ?? 2\n",
      "Digite la Marca del auto : Ferrari\n",
      "Digite el Precio del auto : 1000000\n",
      "Digite el Km del auto : 0\n",
      "Datos LLenados del Auto  1\n",
      "Digite la Marca del auto : Ford\n",
      "Digite el Precio del auto : 150000\n",
      "Digite el Km del auto : 0\n",
      "Datos LLenados del Auto  2\n",
      "------------------------------------------------\n",
      "Auto  0  : \n",
      "La Marca del Auto  0  es : Ferrari\n",
      "El Precio del Auto  0  es : 1000000\n",
      "El Km del Auto  0  es : 0\n",
      "------------------------------------------------\n",
      "Auto  1  : \n",
      "La Marca del Auto  1  es : Ford\n",
      "El Precio del Auto  1  es : 150000\n",
      "El Km del Auto  1  es : 0\n"
     ]
    }
   ],
   "source": [
    "#Creamos la Clase Auto\n",
    "class Auto:\n",
    "    Marca = None\n",
    "    Precio = None\n",
    "    Km =None\n",
    "    \n",
    "#Variables\n",
    "Instancias = int(input('Cuantos Autos desea Crear ?? '))\n",
    "Fabrica = 0 \n",
    "Autos = []\n",
    "\n",
    "#Creamos Un bucle while para generar Instancias de Nuestra Clase Auto()\n",
    "while Fabrica < Instancias:\n",
    "    Objeto = Auto()\n",
    "    Objeto.Marca = input(\"Digite la Marca del auto : \")\n",
    "    Objeto.Precio = input(\"Digite el Precio del auto : \")\n",
    "    Objeto.Km = input(\"Digite el Km del auto : \")\n",
    "    Fabrica += 1\n",
    "    print(\"Datos LLenados del Auto \",Fabrica)\n",
    "    Autos.append(Objeto)\n",
    "    \n",
    "#Aqui mostramos Nuestros Objetos de la Clase Auto con un For    \n",
    "for auto in range(len(Autos)):\n",
    "    print('------------------------------------------------\\nAuto ',auto,' : ')\n",
    "    print('La Marca del Auto ',auto,' es : '+Autos[auto].Marca)\n",
    "    print('El Precio del Auto ',auto,' es : '+Autos[auto].Precio)\n",
    "    print('El Km del Auto ',auto,' es : '+Autos[auto].Km)\n"
   ]
  },
  {
   "cell_type": "markdown",
   "metadata": {},
   "source": [
    "### Atributos"
   ]
  },
  {
   "cell_type": "code",
   "execution_count": 11,
   "metadata": {},
   "outputs": [
    {
     "name": "stdout",
     "output_type": "stream",
     "text": [
      "99\n",
      "23\n",
      "07452983494\n",
      "23452072340\n"
     ]
    }
   ],
   "source": [
    "class Nombre:\n",
    "    pass\n",
    "\n",
    "Argus = Nombre()\n",
    "Verona = Nombre()\n",
    "\n",
    "#Objeto.Atributo = Valor\n",
    "\n",
    "#Creando Atributos de los Objetos\n",
    "Argus.Edad = 99\n",
    "Argus.Profesion = \"Ing. en Ciencias de la Computacion\"\n",
    "Argus.CI = \"23452072340\"\n",
    "\n",
    "Verona.Edad = 23\n",
    "Verona.Profesion = \"Dr. en Matematicas\"\n",
    "Verona.CI = \"07452983494\"\n",
    "\n",
    "#Mostramos los Atributos(Datos) de nuestros objetos\n",
    "print(Argus.Edad)\n",
    "print(Verona.Edad)\n",
    "print(Verona.CI)\n",
    "print(Argus.CI)"
   ]
  },
  {
   "cell_type": "markdown",
   "metadata": {},
   "source": [
    "### Metodos"
   ]
  },
  {
   "cell_type": "code",
   "execution_count": 6,
   "metadata": {},
   "outputs": [
    {
     "name": "stdout",
     "output_type": "stream",
     "text": [
      "10\n"
     ]
    }
   ],
   "source": [
    "class Matematicas:\n",
    "    \n",
    "    def Sumar(self):\n",
    "        self.Number1 = 9\n",
    "        self.Number2 = 1\n",
    "        self.Resultado = self.Number1 + self.Number2\n",
    "        return self.Resultado\n",
    "        \n",
    "        \n",
    "#Instanciamos un Objeto de la Clase Matematicas\n",
    "Operacion = Matematicas()\n",
    "print(Operacion.Sumar())"
   ]
  },
  {
   "cell_type": "markdown",
   "metadata": {},
   "source": [
    "### Ejercicio 1 <br> Crear los metodos Sumar , Restar,  Multiplicar, Dividir , crear un menu para seleccionar que operacion desea hacer el usuario"
   ]
  },
  {
   "cell_type": "code",
   "execution_count": 9,
   "metadata": {},
   "outputs": [
    {
     "name": "stdout",
     "output_type": "stream",
     "text": [
      "\n",
      "                            ------------------MENU--------------------\n",
      "                            0 . Sumar\n",
      "                            1 . Restar\n",
      "                            2 . Multiplicar\n",
      "                            3 . Dividir\n",
      "                            4 . Ver Que Numero es Mayor\n",
      "                            5 . Salir\n",
      "                            ~ Digite una Opcion:\n",
      "    0\n",
      "Digite un Numero :23\n",
      "Digite otro Numero :3\n",
      "26\n",
      "\n",
      "                            ------------------MENU--------------------\n",
      "                            0 . Sumar\n",
      "                            1 . Restar\n",
      "                            2 . Multiplicar\n",
      "                            3 . Dividir\n",
      "                            4 . Ver Que Numero es Mayor\n",
      "                            5 . Salir\n",
      "                            ~ Digite una Opcion:\n",
      "    3\n",
      "Digite un Numero :23\n",
      "Digite otro Numero :3\n",
      "7.666666666666667\n",
      "\n",
      "                            ------------------MENU--------------------\n",
      "                            0 . Sumar\n",
      "                            1 . Restar\n",
      "                            2 . Multiplicar\n",
      "                            3 . Dividir\n",
      "                            4 . Ver Que Numero es Mayor\n",
      "                            5 . Salir\n",
      "                            ~ Digite una Opcion:\n",
      "    4\n",
      "Digite un Numero :123\n",
      "Digite otro Numero :312\n",
      "El Numero Mayor es :  312\n",
      "\n",
      "                            ------------------MENU--------------------\n",
      "                            0 . Sumar\n",
      "                            1 . Restar\n",
      "                            2 . Multiplicar\n",
      "                            3 . Dividir\n",
      "                            4 . Ver Que Numero es Mayor\n",
      "                            5 . Salir\n",
      "                            ~ Digite una Opcion:\n",
      "    5\n",
      "Fin del Programa ....\n"
     ]
    },
    {
     "ename": "SystemExit",
     "evalue": "1",
     "output_type": "error",
     "traceback": [
      "An exception has occurred, use %tb to see the full traceback.\n",
      "\u001b[1;31mSystemExit\u001b[0m\u001b[1;31m:\u001b[0m 1\n"
     ]
    }
   ],
   "source": [
    "import sys\n",
    "class Matematicas:\n",
    "    \n",
    "    def Sumar(self, Num1, Num2):\n",
    "        self.Number1 = Num1\n",
    "        self.Number2 = Num2\n",
    "        return self.Number1 + self.Number2\n",
    "        \n",
    "    def Restar(self, Num1, Num2):\n",
    "        self.Number1 = Num1\n",
    "        self.Number2 = Num2\n",
    "        if self.Number1 < self.Number2:\n",
    "            return self.Number2 - self.Number1\n",
    "        elif self.Number2 < self.Number1:\n",
    "            return self.Number1 - self.Number2\n",
    "    \n",
    "    def Multiplicacion(self, Num1, Num2):\n",
    "        self.Number1 = Num1\n",
    "        self.Number2 = Num2\n",
    "        return self.Number1 * self.Number2\n",
    "    \n",
    "    def Division(self, Num1, Num2):\n",
    "        self.Number1 = Num1\n",
    "        self.Number2 = Num2\n",
    "        if self.Number1 < self.Number2:\n",
    "            return self.Number2 / self.Number1\n",
    "        elif self.Number2 < self.Number1:\n",
    "            return self.Number1 / self.Number2\n",
    "    \n",
    "    def Comparacion(self, Num1, Num2):\n",
    "        self.Number1 = Num1\n",
    "        self.Number2 = Num2\n",
    "        if self.Number1 > self.Number2:\n",
    "            print(\"El Numero Mayor es : \",self.Number1)\n",
    "        elif self.Number2 > self.Number1:\n",
    "            print(\"El Numero Mayor es : \",self.Number2)\n",
    "    \n",
    "        \n",
    "            \n",
    "while(True):\n",
    "    Operacion = Matematicas()\n",
    "    Menu = int(input(\"\"\"\n",
    "                            ------------------MENU--------------------\n",
    "                            0 . Sumar\n",
    "                            1 . Restar\n",
    "                            2 . Multiplicar\n",
    "                            3 . Dividir\n",
    "                            4 . Ver Que Numero es Mayor\n",
    "                            5 . Salir\n",
    "                            ~ Digite una Opcion:\n",
    "    \"\"\"))\n",
    "   \n",
    "    if Menu != 5:\n",
    "        Num1 = int(input(\"Digite un Numero :\"))\n",
    "        Num2 = int(input(\"Digite otro Numero :\"))\n",
    "               \n",
    "    if Menu == 0:\n",
    "        print(Operacion.Sumar(Num1, Num2))\n",
    "    elif Menu == 1:\n",
    "        print(Operacion.Restar(Num1, Num2))\n",
    "    elif Menu == 2:\n",
    "        print(Operacion.Multiplicacion(Num1, Num2))\n",
    "    elif Menu == 3:\n",
    "        print(Operacion.Division(Num1, Num2))\n",
    "    elif Menu == 4:\n",
    "        Operacion.Comparacion(Num1, Num2)\n",
    "    elif Menu == 5 :\n",
    "        print(\"Fin del Programa ....\")\n",
    "        sys.exit(1)\n"
   ]
  },
  {
   "cell_type": "markdown",
   "metadata": {},
   "source": [
    "### Metodo Constructor (Importante)"
   ]
  },
  {
   "cell_type": "code",
   "execution_count": 16,
   "metadata": {},
   "outputs": [
    {
     "name": "stdout",
     "output_type": "stream",
     "text": [
      "Adidas\n",
      "M\n",
      "Rojo\n"
     ]
    }
   ],
   "source": [
    "class Ropa:\n",
    "    \n",
    "    def __init__(self):#Metodo Constructor\n",
    "        self.Marca = \"Adidas\"\n",
    "        self.Talla = 'M'\n",
    "        self.Color = \"Rojo\"\n",
    "        \n",
    "#Instanciamos un Objeto\n",
    "Camisa = Ropa()\n",
    "print(Camisa.Marca)\n",
    "print(Camisa.Talla)\n",
    "print(Camisa.Color)"
   ]
  },
  {
   "cell_type": "code",
   "execution_count": 10,
   "metadata": {},
   "outputs": [
    {
     "name": "stdout",
     "output_type": "stream",
     "text": [
      "11\n",
      "7\n",
      "18\n",
      "4.5\n",
      "4\n",
      "81\n",
      "1\n"
     ]
    }
   ],
   "source": [
    "class Calculadora:\n",
    "    \n",
    "    def __init__(self, n1, n2):\n",
    "        self.Suma = n1 + n2\n",
    "        self.Resta = n1 - n2\n",
    "        self.Multiplicacion = n1 * n2\n",
    "        self.Division = n1 / n2\n",
    "        self.DivExacta = n1 // n2\n",
    "        self.Cuadrado = n1 ** n2\n",
    "        self.Residuo = n1 % n2\n",
    "        \n",
    "Operacion = Calculadora(9,2)    \n",
    "print(Operacion.Suma)\n",
    "print(Operacion.Resta)\n",
    "print(Operacion.Multiplicacion)\n",
    "print(Operacion.Division)\n",
    "print(Operacion.DivExacta)\n",
    "print(Operacion.Cuadrado)\n",
    "print(Operacion.Residuo)        "
   ]
  },
  {
   "cell_type": "code",
   "execution_count": 21,
   "metadata": {},
   "outputs": [
    {
     "name": "stdout",
     "output_type": "stream",
     "text": [
      "El Nombre es : Argus\n",
      "------------------------------------- \n",
      "Datos traidos a traves de getattr : \n",
      "Su Apellido es : Aphocraphex\n",
      "El Nombre con getattr es : Argus\n",
      "-------------------------------\n",
      "Se sabe la Edad ?? :  True\n",
      "Se sabe la Nacionalidad ?? :  True\n",
      "Se sabe la Vida del Sujeto ?? :  False\n",
      "---------------------\n",
      " El Nombre antes de setattr es : Argus\n",
      "El Nombre despues de setattr es : Ether\n"
     ]
    },
    {
     "ename": "AttributeError",
     "evalue": "'Persona' object has no attribute 'Nacionalidad'",
     "output_type": "error",
     "traceback": [
      "\u001b[1;31m---------------------------------------------------------------------------\u001b[0m",
      "\u001b[1;31mAttributeError\u001b[0m                            Traceback (most recent call last)",
      "\u001b[1;32m<ipython-input-21-9c8ffc8017fc>\u001b[0m in \u001b[0;36m<module>\u001b[1;34m\u001b[0m\n\u001b[0;32m     28\u001b[0m \u001b[1;31m#delattr par eliminar un atributo de la clase\u001b[0m\u001b[1;33m\u001b[0m\u001b[1;33m\u001b[0m\u001b[1;33m\u001b[0m\u001b[0m\n\u001b[0;32m     29\u001b[0m \u001b[0mdelattr\u001b[0m\u001b[1;33m(\u001b[0m\u001b[0mPersona\u001b[0m\u001b[1;33m,\u001b[0m \u001b[1;34m'Nacionalidad'\u001b[0m\u001b[1;33m)\u001b[0m\u001b[1;33m\u001b[0m\u001b[1;33m\u001b[0m\u001b[0m\n\u001b[1;32m---> 30\u001b[1;33m \u001b[0mprint\u001b[0m\u001b[1;33m(\u001b[0m\u001b[0mDoctor\u001b[0m\u001b[1;33m.\u001b[0m\u001b[0mNacionalidad\u001b[0m\u001b[1;33m)\u001b[0m\u001b[1;33m\u001b[0m\u001b[1;33m\u001b[0m\u001b[0m\n\u001b[0m\u001b[0;32m     31\u001b[0m \u001b[1;33m\u001b[0m\u001b[0m\n",
      "\u001b[1;31mAttributeError\u001b[0m: 'Persona' object has no attribute 'Nacionalidad'"
     ]
    }
   ],
   "source": [
    "class Persona:\n",
    "    \n",
    "    Nombre = \"Argus\"\n",
    "    Apellido = \"Aphocraphex\"\n",
    "    Edad = 29\n",
    "    Nacionalidad = \"Argentina\"\n",
    "    \n",
    "Doctor = Persona()\n",
    "    \n",
    "print('El Nombre es : ' + Doctor.Nombre)\n",
    "#getattr sirve para traer atributos de una clase \n",
    "print('------------------------------------- \\nDatos traidos a traves de getattr : \\nSu Apellido es : '\n",
    "      + getattr(Doctor,'Apellido'))\n",
    "print('El Nombre con getattr es : ' + getattr(Doctor,'Nombre'))\n",
    "\n",
    "#hasattr srive para ver si existe ese atributo en la clase puede ser True o False\n",
    "print(\"-------------------------------\\nSe sabe la Edad ?? : \" , hasattr(Doctor, 'Edad'))\n",
    "print(\"Se sabe la Nacionalidad ?? : \" , hasattr(Doctor, 'Edad'))\n",
    "print(\"Se sabe la Vida del Sujeto ?? : \" , hasattr(Doctor, 'Vida'))\n",
    "\n",
    "\n",
    "#setattr srive para cambiar de valor un atributo o introducirle un valor a un atributo de la clase \n",
    "print('---------------------\\n El Nombre antes de setattr es : ' + Doctor.Nombre)\n",
    "setattr(Doctor, 'Nombre',\"Ether\")\n",
    "print('El Nombre despues de setattr es : ' + Doctor.Nombre)\n",
    "\n",
    "\n",
    "#delattr par eliminar un atributo de la clase\n",
    "delattr(Persona, 'Nacionalidad')\n",
    "\n",
    "#nos sale error porque de la clase persona ha sido eliminado el atributo Nacionalidad\n",
    "print(Doctor.Nacionalidad)\n",
    "\n"
   ]
  },
  {
   "cell_type": "markdown",
   "metadata": {},
   "source": [
    "### CONSTRUCTOR"
   ]
  },
  {
   "cell_type": "code",
   "execution_count": 17,
   "metadata": {},
   "outputs": [
    {
     "name": "stdout",
     "output_type": "stream",
     "text": [
      "Argus , Aphocraphex have 29 and your name hacker is Pragmatic Coder\n",
      "Argus Aphocraphex say Fuck society!!!!!\n"
     ]
    }
   ],
   "source": [
    "class People:\n",
    "    \n",
    "    #Metodo constructor\n",
    "    def __init__(self, Name, LastName, Age, NickName):\n",
    "        self.Name = Name\n",
    "        self.LastName = LastName\n",
    "        self.Age = Age\n",
    "        self.NickName = NickName\n",
    "        \n",
    "    \n",
    "    def Description(self):\n",
    "        return '{} , {} have {} and your name hacker is {}'.format(self.Name, self.LastName, self.Age, self.NickName)\n",
    "    \n",
    "    def Comment(self, sentence):\n",
    "        return '{} {} say {}'.format(self.Name, self.LastName, sentence)\n",
    "    \n",
    "Doctor = People('Argus', 'Aphocraphex', 29 , 'Pragmatic Coder')\n",
    "print(Doctor.Description())\n",
    "print(Doctor.Comment(\"Fuck society!!!!!\"))\n"
   ]
  },
  {
   "cell_type": "code",
   "execution_count": 19,
   "metadata": {},
   "outputs": [
    {
     "name": "stdout",
     "output_type": "stream",
     "text": [
      "False\n",
      "Enviando Correo . . .\n",
      "True\n"
     ]
    }
   ],
   "source": [
    "class Email:\n",
    "    \n",
    "    #Metodo Constructor\n",
    "    def __init__(self, Message):\n",
    "        self.Sent = False\n",
    "        self.Message = Message\n",
    "        \n",
    "    def SentEmail(self):\n",
    "        self.Sent = True\n",
    "        print('Enviando Correo . . .')\n",
    "        \n",
    "My_Email = Email('Hola como estas')\n",
    "print(My_Email.Sent)\n",
    "My_Email.SentEmail()\n",
    "print(My_Email.Sent)\n",
    "        "
   ]
  },
  {
   "cell_type": "markdown",
   "metadata": {},
   "source": [
    "# HERENCIA"
   ]
  },
  {
   "cell_type": "code",
   "execution_count": 22,
   "metadata": {},
   "outputs": [
    {
     "name": "stdout",
     "output_type": "stream",
     "text": [
      "Blastar es de Tipo Electrico\n",
      "Blastar tipo de ataque: Impactrueno\n"
     ]
    }
   ],
   "source": [
    "#CLASE PADRE\n",
    "class Pokemon:\n",
    "    def __init__(self, Name, Tipo):\n",
    "        self.Name = Name\n",
    "        self.Tipo = Tipo\n",
    "    \n",
    "    def Description(self):\n",
    "        return '{} es de Tipo {}'.format(self.Name, self.Tipo)\n",
    "    \n",
    "#CLASE HIJO\n",
    "class Pikachu(Pokemon):\n",
    "    \n",
    "    def Attack(self, TipoAttack):\n",
    "        return '{} tipo de ataque: {}'.format(self.Name, TipoAttack)\n",
    "    \n",
    "#CLASE HIJO\n",
    "class Charmander(Pokemon):\n",
    "    \n",
    "    def Attack(self, TipoAttack):\n",
    "        return '{} tipo de ataque: {}'.format(self.Name, TipoAttack)\n",
    "    \n",
    "#Instanciamos un Objeto\n",
    "New_Pokemon = Pikachu('Blastar','Electrico')\n",
    "\n",
    "print(New_Pokemon.Description())\n",
    "print(New_Pokemon.Attack('Impactrueno'))\n"
   ]
  },
  {
   "cell_type": "markdown",
   "metadata": {},
   "source": [
    "## Ejercicio 1 Calculadora"
   ]
  },
  {
   "cell_type": "code",
   "execution_count": 13,
   "metadata": {},
   "outputs": [
    {
     "name": "stdout",
     "output_type": "stream",
     "text": [
      "Ingresar los Datos1 = 1\n",
      "Ingresar los Datos1 = 2\n",
      "Ingresar los Datos2 = 3\n",
      "El Valor de la Multiplicacion es:  6\n",
      "None\n",
      "-------------------------------\n",
      "\n",
      "True\n",
      "True\n",
      "False\n"
     ]
    }
   ],
   "source": [
    "#Clase Padre\n",
    "class Calculadora:\n",
    "    \n",
    "    #Metodo Constructor\n",
    "    def __init__(self, Numero):\n",
    "        self.Numero = Numero\n",
    "        self.Datos = [0 for i in range(Numero)]\n",
    "        \n",
    "    def IngresarDato(self):\n",
    "        self.Datos = [int(input(\"Ingresar los Datos\"+ str(i+1) + ' = ')) for i in range(self.Numero)]\n",
    "        \n",
    "#Clase Hijo\n",
    "class OP_Basics(Calculadora):\n",
    "    \n",
    "    #Metodo Constructor\n",
    "    def __init__(self):\n",
    "        Calculadora.__init__(self,2)\n",
    "        \n",
    "        \n",
    "    def Suma(self):\n",
    "        x , y = self.Datos\n",
    "        suma = x + y\n",
    "        print('La Valor de la Suma es: ' , suma)\n",
    "        \n",
    "    def Resta(self):\n",
    "        x , y = self.Datos\n",
    "        resta = x - y\n",
    "        print('La Valor de la Resta es: ' , resta)\n",
    "    \n",
    "    def Multiplicacion(self):\n",
    "        x , y = self.Datos\n",
    "        multiplicacion = x * y\n",
    "        print('El Valor de la Multiplicacion es: ' , multiplicacion)\n",
    "    \n",
    "    def Division(self):\n",
    "        x , y = self.Datos\n",
    "        division = x / y\n",
    "        print('El Valor de la Division es: ' , division)\n",
    "        \n",
    "    def Potencia(self):\n",
    "        x , y = self.Datos\n",
    "        potencia = x ** y\n",
    "        print('El Valor de la Potencia es: ',potencia)\n",
    "\n",
    "        \n",
    "#Clase Hijo\n",
    "class Raiz(Calculadora):\n",
    "    \n",
    "    #Metodo Constructor\n",
    "    def __init__(self):\n",
    "        Calculadora.__init__(self,1)\n",
    "        \n",
    "    def Raizes(self):\n",
    "        #Importando la libreria Math\n",
    "        import math\n",
    "        z = self.Datos\n",
    "        print('La Raiz Cuadrada es : ',math.sqrt(z))\n",
    "        \n",
    "        \n",
    "Objeto1 = Raiz()\n",
    "Objeto = OP_Basics()    \n",
    "\n",
    "Objeto1.IngresarDato()\n",
    "Objeto.IngresarDato()\n",
    "\n",
    "print(Objeto.Multiplicacion())\n",
    "\n",
    "\n",
    "print(\"-------------------------------\\n\")\n",
    "#isinstance() sirve para verificar si la herencia se esta cumpliendo correctamente\n",
    "print(isinstance(Objeto, OP_Basics))#la respuesta tiene q ser true\n",
    "\n",
    "#issubclass() sirve para verificar si una clase es hija de otra \n",
    "print(issubclass(OP_Basics , Calculadora))#la respuesta sera verdadero \n",
    "\n",
    "#pero si cambiamos de posicion\n",
    "print(issubclass(Calculadora, OP_Basics))#la respuesta sera falso\n"
   ]
  },
  {
   "cell_type": "markdown",
   "metadata": {},
   "source": [
    "# CONTINUAR EN EL VIDEO 10 ........."
   ]
  },
  {
   "cell_type": "code",
   "execution_count": 11,
   "metadata": {},
   "outputs": [
    {
     "name": "stdout",
     "output_type": "stream",
     "text": [
      "digite un nuemro para hallar el factorial : 3\n",
      "6\n"
     ]
    }
   ],
   "source": [
    "data = int(input(\"digite un nuemro para hallar el factorial : \"))\n",
    "def Factorial(data):\n",
    "        \n",
    "    if data == 1 or data == 0:\n",
    "        return 1\n",
    "    else:\n",
    "        return data * Factorial(data-1)\n",
    "\n",
    "print(Factorial(data))    "
   ]
  }
 ],
 "metadata": {
  "kernelspec": {
   "display_name": "Python 3",
   "language": "python",
   "name": "python3"
  },
  "language_info": {
   "codemirror_mode": {
    "name": "ipython",
    "version": 3
   },
   "file_extension": ".py",
   "mimetype": "text/x-python",
   "name": "python",
   "nbconvert_exporter": "python",
   "pygments_lexer": "ipython3",
   "version": "3.7.6"
  }
 },
 "nbformat": 4,
 "nbformat_minor": 4
}
