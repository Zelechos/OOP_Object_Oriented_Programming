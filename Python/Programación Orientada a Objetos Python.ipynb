{
 "cells": [
  {
   "cell_type": "markdown",
   "metadata": {},
   "source": [
    "# Programcion Orientada a Objetos (POO)"
   ]
  },
  {
   "cell_type": "markdown",
   "metadata": {},
   "source": [
    "##### by Pragmatic Coder"
   ]
  },
  {
   "cell_type": "markdown",
   "metadata": {},
   "source": [
    "### Clases & Objetos"
   ]
  },
  {
   "cell_type": "code",
   "execution_count": 2,
   "metadata": {},
   "outputs": [
    {
     "name": "stdout",
     "output_type": "stream",
     "text": [
      "Objeto Instanciado de la clase Auto : \n",
      "0\n",
      "Ferrari\n",
      "53634-356\n",
      "0\n"
     ]
    }
   ],
   "source": [
    "#Clase\n",
    "class Auto:\n",
    "    #Atributos\n",
    "    Marca = \"Ferrari\"\n",
    "    Modelo = 0\n",
    "    Placa = \"53634-356\"\n",
    "    \n",
    "\n",
    "#Instanciamos un Objeto    \n",
    "Taxi = Auto()\n",
    "\n",
    "print(\"Objeto Instanciado de la clase Auto : \")\n",
    "print(Taxi.Modelo)\n",
    "print(Taxi.Marca)\n",
    "print(Taxi.Placa)"
   ]
  },
  {
   "cell_type": "code",
   "execution_count": 6,
   "metadata": {},
   "outputs": [
    {
     "name": "stdout",
     "output_type": "stream",
     "text": [
      "Hector\n"
     ]
    }
   ],
   "source": [
    "#Simple Repaso\n",
    "class Persona:\n",
    "    Doctor = \"Hector\"\n",
    "\n",
    "#Sin Instanciar ningun Objeto de la Clase    \n",
    "print(Persona.Doctor)"
   ]
  },
  {
   "cell_type": "code",
   "execution_count": 9,
   "metadata": {},
   "outputs": [
    {
     "name": "stdout",
     "output_type": "stream",
     "text": [
      "Messi\n",
      "Krooss\n",
      "Cristiano Ronaldo\n",
      "Lewandowski\n"
     ]
    }
   ],
   "source": [
    "class Jugadores_A:\n",
    "    J1 = \"Messi\"\n",
    "    J2 = \"Cristiano Ronaldo\"    \n",
    "    J3 = \"Lewandowski\"    \n",
    "    \n",
    "class Jugadores_B:\n",
    "    J1 = \"Krooss\"\n",
    "    J2 = \"Xavi\"\n",
    "    J3 = \"Iniesta\"\n",
    "    \n",
    "#Sin Instanciar ningun Objeto de la Clase    \n",
    "print(Jugadores_A.J1)    \n",
    "print(Jugadores_B.J1)\n",
    "print(Jugadores_A.J2)    \n",
    "print(Jugadores_A.J3)    \n",
    "\n"
   ]
  },
  {
   "cell_type": "markdown",
   "metadata": {},
   "source": [
    "### Ejercicio 0 <br> crear una Clase Auto he instanciar N Objetos de la clase Auto Guardarlos y mostrarlos en pantalla"
   ]
  },
  {
   "cell_type": "code",
   "execution_count": 2,
   "metadata": {},
   "outputs": [
    {
     "name": "stdout",
     "output_type": "stream",
     "text": [
      "Cuantos Autos desea Crear ?? 2\n",
      "Digite la Marca del auto : Ferrari\n",
      "Digite el Precio del auto : 1000000\n",
      "Digite el Km del auto : 0\n",
      "Datos LLenados del Auto  1\n",
      "Digite la Marca del auto : Ford\n",
      "Digite el Precio del auto : 150000\n",
      "Digite el Km del auto : 0\n",
      "Datos LLenados del Auto  2\n",
      "------------------------------------------------\n",
      "Auto  0  : \n",
      "La Marca del Auto  0  es : Ferrari\n",
      "El Precio del Auto  0  es : 1000000\n",
      "El Km del Auto  0  es : 0\n",
      "------------------------------------------------\n",
      "Auto  1  : \n",
      "La Marca del Auto  1  es : Ford\n",
      "El Precio del Auto  1  es : 150000\n",
      "El Km del Auto  1  es : 0\n"
     ]
    }
   ],
   "source": [
    "#Creamos la Clase Auto\n",
    "class Auto:\n",
    "    Marca = None\n",
    "    Precio = None\n",
    "    Km =None\n",
    "    \n",
    "#Variables\n",
    "Instancias = int(input('Cuantos Autos desea Crear ?? '))\n",
    "Fabrica = 0 \n",
    "Autos = []\n",
    "\n",
    "#Creamos Un bucle while para generar Instancias de Nuestra Clase Auto()\n",
    "while Fabrica < Instancias:\n",
    "    Objeto = Auto()\n",
    "    Objeto.Marca = input(\"Digite la Marca del auto : \")\n",
    "    Objeto.Precio = input(\"Digite el Precio del auto : \")\n",
    "    Objeto.Km = input(\"Digite el Km del auto : \")\n",
    "    Fabrica += 1\n",
    "    print(\"Datos LLenados del Auto \",Fabrica)\n",
    "    Autos.append(Objeto)\n",
    "    \n",
    "#Aqui mostramos Nuestros Objetos de la Clase Auto con un For    \n",
    "for auto in range(len(Autos)):\n",
    "    print('------------------------------------------------\\nAuto ',auto,' : ')\n",
    "    print('La Marca del Auto ',auto,' es : '+Autos[auto].Marca)\n",
    "    print('El Precio del Auto ',auto,' es : '+Autos[auto].Precio)\n",
    "    print('El Km del Auto ',auto,' es : '+Autos[auto].Km)\n"
   ]
  },
  {
   "cell_type": "markdown",
   "metadata": {},
   "source": [
    "### Atributos"
   ]
  },
  {
   "cell_type": "code",
   "execution_count": 11,
   "metadata": {},
   "outputs": [
    {
     "name": "stdout",
     "output_type": "stream",
     "text": [
      "99\n",
      "23\n",
      "07452983494\n",
      "23452072340\n"
     ]
    }
   ],
   "source": [
    "class Nombre:\n",
    "    pass\n",
    "\n",
    "Argus = Nombre()\n",
    "Verona = Nombre()\n",
    "\n",
    "#Objeto.Atributo = Valor\n",
    "\n",
    "#Creando Atributos de los Objetos\n",
    "Argus.Edad = 99\n",
    "Argus.Profesion = \"Ing. en Ciencias de la Computacion\"\n",
    "Argus.CI = \"23452072340\"\n",
    "\n",
    "Verona.Edad = 23\n",
    "Verona.Profesion = \"Dr. en Matematicas\"\n",
    "Verona.CI = \"07452983494\"\n",
    "\n",
    "#Mostramos los Atributos(Datos) de nuestros objetos\n",
    "print(Argus.Edad)\n",
    "print(Verona.Edad)\n",
    "print(Verona.CI)\n",
    "print(Argus.CI)"
   ]
  },
  {
   "cell_type": "markdown",
   "metadata": {},
   "source": [
    "### Metodos"
   ]
  },
  {
   "cell_type": "code",
   "execution_count": 14,
   "metadata": {},
   "outputs": [
    {
     "name": "stdout",
     "output_type": "stream",
     "text": [
      "10\n"
     ]
    }
   ],
   "source": [
    "class Matematicas:\n",
    "    \n",
    "    def Sumar(self):\n",
    "        self.Number1 = 9\n",
    "        self.Number2 = 1\n",
    "        \n",
    "#Instanciamos un Objeto de la Clase Matematicas\n",
    "Operacion = Matematicas()\n",
    "Operacion.Sumar()\n",
    "print(Operacion.Number1+ Operacion.Number2)"
   ]
  },
  {
   "cell_type": "markdown",
   "metadata": {},
   "source": [
    "### Metodo Constructor (Importante)"
   ]
  },
  {
   "cell_type": "code",
   "execution_count": 16,
   "metadata": {},
   "outputs": [
    {
     "name": "stdout",
     "output_type": "stream",
     "text": [
      "Adidas\n",
      "M\n",
      "Rojo\n"
     ]
    }
   ],
   "source": [
    "class Ropa:\n",
    "    \n",
    "    def __init__(self):\n",
    "        self.Marca = \"Adidas\"\n",
    "        self.Talla = 'M'\n",
    "        self.Color = \"Rojo\"\n",
    "        \n",
    "#Instanciamos un Objeto\n",
    "Camisa = Ropa()\n",
    "print(Camisa.Marca)\n",
    "print(Camisa.Talla)\n",
    "print(Camisa.Color)"
   ]
  },
  {
   "cell_type": "code",
   "execution_count": null,
   "metadata": {},
   "outputs": [],
   "source": [
    "class Calculadora:\n",
    "    \n",
    "    def __init__(self, n1, n2):\n",
    "        self.Suma = n1 + n2\n",
    "        self.Resta = n1 - n2\n",
    "        self.Multiplicacion = n1 * n2\n",
    "        self.Division = n1 / n2\n",
    "        self.DivExacta = n1 // n2\n",
    "        self.Cuadrado = n1 ** n2\n",
    "        self.Residuo = n1 % n2\n",
    "        \n",
    "Operacion = Calculadora(9,2)    \n",
    "print(Operacion.Suma)\n",
    "print(Operacion.Resta)\n",
    "print(Operacion.Multiplicacion)\n",
    "print(Operacion.Division)\n",
    "print(Operacion.DivExacta)\n",
    "print(Operacion.Cuadrado)\n",
    "print(Operacion.Residuo)        "
   ]
  },
  {
   "cell_type": "code",
   "execution_count": 5,
   "metadata": {},
   "outputs": [
    {
     "name": "stdout",
     "output_type": "stream",
     "text": [
      "El Nombre es : Argus\n",
      "Su Apellido es : Aphocraphex\n",
      "Se sabe la Edad ?? :  True\n",
      "El Nombre es : Ether\n",
      "Argentina\n",
      "Argentina\n"
     ]
    }
   ],
   "source": [
    "class Persona:\n",
    "    \n",
    "    Nombre = \"Argus\"\n",
    "    Apellido = \"Aphocraphex\"\n",
    "    Edad = 29\n",
    "    Nacionalidad = \"Argentina\"\n",
    "    \n",
    "Doctor = Persona()\n",
    "    \n",
    "print('El Nombre es : ' + Doctor.Nombre)\n",
    "print('Su Apellido es : ' + getattr(Doctor,'Apellido'))\n",
    "print(\"Se sabe la Edad ?? : \" , hasattr(Doctor, 'Edad'))\n",
    "setattr(Doctor, 'Nombre',\"Ether\")\n",
    "print('El Nombre es : ' + Doctor.Nombre)\n",
    "\n",
    "print(Doctor.Nacionalidad)\n",
    "print(Doctor.Nacionalidad)"
   ]
  },
  {
   "cell_type": "markdown",
   "metadata": {},
   "source": [
    "# Continuar en Video 5  ....."
   ]
  }
 ],
 "metadata": {
  "kernelspec": {
   "display_name": "Python 3",
   "language": "python",
   "name": "python3"
  },
  "language_info": {
   "codemirror_mode": {
    "name": "ipython",
    "version": 3
   },
   "file_extension": ".py",
   "mimetype": "text/x-python",
   "name": "python",
   "nbconvert_exporter": "python",
   "pygments_lexer": "ipython3",
   "version": "3.7.6"
  }
 },
 "nbformat": 4,
 "nbformat_minor": 4
}
